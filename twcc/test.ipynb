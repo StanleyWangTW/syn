{
 "cells": [
  {
   "cell_type": "code",
   "execution_count": 1,
   "id": "b2d6af95",
   "metadata": {
    "scrolled": true
   },
   "outputs": [
    {
     "name": "stderr",
     "output_type": "stream",
     "text": [
      "C:\\Users\\user\\anaconda3\\envs\\Synthseg\\lib\\site-packages\\tqdm\\auto.py:22: TqdmWarning: IProgress not found. Please update jupyter and ipywidgets. See https://ipywidgets.readthedocs.io/en/stable/user_install.html\n",
      "  from .autonotebook import tqdm as notebook_tqdm\n"
     ]
    }
   ],
   "source": [
    "import torch\n",
    "\n",
    "import models\n",
    "import tool"
   ]
  },
  {
   "cell_type": "code",
   "execution_count": 2,
   "id": "dc847f39",
   "metadata": {},
   "outputs": [
    {
     "name": "stdout",
     "output_type": "stream",
     "text": [
      "device: cpu\n"
     ]
    }
   ],
   "source": [
    "device = \"cuda\" if torch.cuda.is_available() else \"cpu\"\n",
    "device = \"cpu\"\n",
    "print(\"device:\", device)\n",
    "\n",
    "label_all = dict()\n",
    "label_all['synsg'] = (\n",
    "    0, 2, 3, 4, 5, 7, 8, 10, 11, 12, 13, 14, 15, 16, 17, 18, 24, 26, 28,\n",
    "    41, 42, 43, 44, 46, 47, 49, 50, 51, 52, 53, 54, 58, 60\n",
    ")"
   ]
  },
  {
   "cell_type": "code",
   "execution_count": 3,
   "id": "0cfd6939",
   "metadata": {},
   "outputs": [
    {
     "name": "stdout",
     "output_type": "stream",
     "text": [
      "Model predicts 33 labels.\n",
      "load checkpoint succesfully\n"
     ]
    }
   ],
   "source": [
    "pred_labels = label_all['synsg']\n",
    "model = models.Unet3D(1, len(pred_labels), 24).to(device)\n",
    "print(f\"Model predicts {len(pred_labels)} labels.\")\n",
    "\n",
    "checkpoint = torch.load(r'D:\\Python_Projects\\synthseg\\models\\LabelSamseg_unet_44000\\checkpoint.pth.tar')\n",
    "model.load_state_dict(checkpoint['model_state_dict'])\n",
    "print(\"load checkpoint succesfully\")"
   ]
  },
  {
   "cell_type": "code",
   "execution_count": 4,
   "id": "f719ec6c",
   "metadata": {},
   "outputs": [
    {
     "name": "stdout",
     "output_type": "stream",
     "text": [
      "123\n"
     ]
    }
   ],
   "source": [
    "testset = tool.GetData(r'D:\\Python_Projects\\dataset\\candi_oasis_aseg\\candi_oasis_aseg_reorder_1mm\\raw123\\*.nii.gz',\n",
    "                       r'D:\\Python_Projects\\dataset\\candi_oasis_aseg\\candi_oasis_aseg_reorder_1mm\\label123\\*.nii.gz',\n",
    "                       'both')\n",
    "print(len(testset))"
   ]
  },
  {
   "cell_type": "code",
   "execution_count": null,
   "id": "19b2df0e",
   "metadata": {},
   "outputs": [
    {
     "name": "stderr",
     "output_type": "stream",
     "text": [
      "validating:   1%|▍                                                       | 1/123 [00:16<34:30, 16.97s/it, dice=0.74187]"
     ]
    }
   ],
   "source": [
    "tool.validate(model, testset, label_all['synsg'], device)"
   ]
  },
  {
   "cell_type": "code",
   "execution_count": null,
   "id": "521dfe9c",
   "metadata": {},
   "outputs": [],
   "source": []
  }
 ],
 "metadata": {
  "kernelspec": {
   "display_name": "Synthseg",
   "language": "python",
   "name": "synthseg"
  },
  "language_info": {
   "codemirror_mode": {
    "name": "ipython",
    "version": 3
   },
   "file_extension": ".py",
   "mimetype": "text/x-python",
   "name": "python",
   "nbconvert_exporter": "python",
   "pygments_lexer": "ipython3",
   "version": "3.9.16"
  }
 },
 "nbformat": 4,
 "nbformat_minor": 5
}
